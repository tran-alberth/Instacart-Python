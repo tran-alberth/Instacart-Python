{
 "cells": [
  {
   "cell_type": "markdown",
   "id": "bd0df6bb",
   "metadata": {},
   "source": [
    "# 01. Importing Librarys"
   ]
  },
  {
   "cell_type": "code",
   "execution_count": 1,
   "id": "c3838966",
   "metadata": {},
   "outputs": [],
   "source": [
    "# Import libraries\n",
    "import pandas as pd\n",
    "import numpy as np\n",
    "import os"
   ]
  },
  {
   "cell_type": "code",
   "execution_count": 18,
   "id": "f14420e0",
   "metadata": {},
   "outputs": [],
   "source": [
    "#Working with Python Data Types\n",
    "x = 10\n",
    "y = 25"
   ]
  },
  {
   "cell_type": "code",
   "execution_count": 19,
   "id": "b75e9c8d",
   "metadata": {},
   "outputs": [
    {
     "data": {
      "text/plain": [
       "100"
      ]
     },
     "execution_count": 19,
     "metadata": {},
     "output_type": "execute_result"
    }
   ],
   "source": [
    "x * 10"
   ]
  },
  {
   "cell_type": "code",
   "execution_count": 20,
   "id": "55f10508",
   "metadata": {},
   "outputs": [
    {
     "data": {
      "text/plain": [
       "100"
      ]
     },
     "execution_count": 20,
     "metadata": {},
     "output_type": "execute_result"
    }
   ],
   "source": [
    "y * 4"
   ]
  },
  {
   "cell_type": "code",
   "execution_count": 21,
   "id": "13d61728",
   "metadata": {},
   "outputs": [
    {
     "data": {
      "text/plain": [
       "100"
      ]
     },
     "execution_count": 21,
     "metadata": {},
     "output_type": "execute_result"
    }
   ],
   "source": [
    "x * y - 150"
   ]
  },
  {
   "cell_type": "code",
   "execution_count": 25,
   "id": "5a586132",
   "metadata": {},
   "outputs": [],
   "source": [
    "a = 1.432"
   ]
  },
  {
   "cell_type": "code",
   "execution_count": 26,
   "id": "a7cf89be",
   "metadata": {},
   "outputs": [],
   "source": [
    "b = 4.321"
   ]
  },
  {
   "cell_type": "code",
   "execution_count": 27,
   "id": "478ec6f0",
   "metadata": {},
   "outputs": [
    {
     "data": {
      "text/plain": [
       "3.017458100558659"
      ]
     },
     "execution_count": 27,
     "metadata": {},
     "output_type": "execute_result"
    }
   ],
   "source": [
    "b / a"
   ]
  },
  {
   "cell_type": "code",
   "execution_count": 28,
   "id": "9f742eb6",
   "metadata": {},
   "outputs": [],
   "source": [
    "h = 'Hello,'"
   ]
  },
  {
   "cell_type": "code",
   "execution_count": 29,
   "id": "ecf1ba9a",
   "metadata": {},
   "outputs": [],
   "source": [
    "e = ' World.'"
   ]
  },
  {
   "cell_type": "code",
   "execution_count": 30,
   "id": "d4682ac2",
   "metadata": {},
   "outputs": [],
   "source": [
    "y = ' My name is Albert Tran.'"
   ]
  },
  {
   "cell_type": "code",
   "execution_count": 31,
   "id": "fac90116",
   "metadata": {},
   "outputs": [
    {
     "data": {
      "text/plain": [
       "'Hello, World. My name is Albert Tran.'"
      ]
     },
     "execution_count": 31,
     "metadata": {},
     "output_type": "execute_result"
    }
   ],
   "source": [
    "h + e + y"
   ]
  },
  {
   "cell_type": "code",
   "execution_count": 32,
   "id": "e96b771c",
   "metadata": {},
   "outputs": [
    {
     "data": {
      "text/plain": [
       "'Hello, World. My name is Albert Tran.Hello, World. My name is Albert Tran.Hello, World. My name is Albert Tran.Hello, World. My name is Albert Tran.Hello, World. My name is Albert Tran.Hello, World. My name is Albert Tran.Hello, World. My name is Albert Tran.Hello, World. My name is Albert Tran.Hello, World. My name is Albert Tran.Hello, World. My name is Albert Tran.Hello, World. My name is Albert Tran.Hello, World. My name is Albert Tran.Hello, World. My name is Albert Tran.Hello, World. My name is Albert Tran.Hello, World. My name is Albert Tran.Hello, World. My name is Albert Tran.Hello, World. My name is Albert Tran.Hello, World. My name is Albert Tran.Hello, World. My name is Albert Tran.Hello, World. My name is Albert Tran.Hello, World. My name is Albert Tran.Hello, World. My name is Albert Tran.Hello, World. My name is Albert Tran.Hello, World. My name is Albert Tran.Hello, World. My name is Albert Tran.Hello, World. My name is Albert Tran.Hello, World. My name is Albert Tran.Hello, World. My name is Albert Tran.Hello, World. My name is Albert Tran.Hello, World. My name is Albert Tran.Hello, World. My name is Albert Tran.Hello, World. My name is Albert Tran.Hello, World. My name is Albert Tran.Hello, World. My name is Albert Tran.Hello, World. My name is Albert Tran.Hello, World. My name is Albert Tran.Hello, World. My name is Albert Tran.Hello, World. My name is Albert Tran.Hello, World. My name is Albert Tran.Hello, World. My name is Albert Tran.Hello, World. My name is Albert Tran.Hello, World. My name is Albert Tran.Hello, World. My name is Albert Tran.Hello, World. My name is Albert Tran.Hello, World. My name is Albert Tran.Hello, World. My name is Albert Tran.Hello, World. My name is Albert Tran.Hello, World. My name is Albert Tran.Hello, World. My name is Albert Tran.Hello, World. My name is Albert Tran.Hello, World. My name is Albert Tran.Hello, World. My name is Albert Tran.Hello, World. My name is Albert Tran.Hello, World. My name is Albert Tran.Hello, World. My name is Albert Tran.Hello, World. My name is Albert Tran.Hello, World. My name is Albert Tran.Hello, World. My name is Albert Tran.Hello, World. My name is Albert Tran.Hello, World. My name is Albert Tran.Hello, World. My name is Albert Tran.Hello, World. My name is Albert Tran.Hello, World. My name is Albert Tran.Hello, World. My name is Albert Tran.Hello, World. My name is Albert Tran.Hello, World. My name is Albert Tran.Hello, World. My name is Albert Tran.Hello, World. My name is Albert Tran.Hello, World. My name is Albert Tran.Hello, World. My name is Albert Tran.Hello, World. My name is Albert Tran.Hello, World. My name is Albert Tran.Hello, World. My name is Albert Tran.Hello, World. My name is Albert Tran.Hello, World. My name is Albert Tran.Hello, World. My name is Albert Tran.Hello, World. My name is Albert Tran.Hello, World. My name is Albert Tran.Hello, World. My name is Albert Tran.Hello, World. My name is Albert Tran.Hello, World. My name is Albert Tran.Hello, World. My name is Albert Tran.Hello, World. My name is Albert Tran.Hello, World. My name is Albert Tran.Hello, World. My name is Albert Tran.Hello, World. My name is Albert Tran.Hello, World. My name is Albert Tran.Hello, World. My name is Albert Tran.Hello, World. My name is Albert Tran.Hello, World. My name is Albert Tran.Hello, World. My name is Albert Tran.Hello, World. My name is Albert Tran.Hello, World. My name is Albert Tran.Hello, World. My name is Albert Tran.Hello, World. My name is Albert Tran.Hello, World. My name is Albert Tran.Hello, World. My name is Albert Tran.Hello, World. My name is Albert Tran.Hello, World. My name is Albert Tran.Hello, World. My name is Albert Tran.'"
      ]
     },
     "execution_count": 32,
     "metadata": {},
     "output_type": "execute_result"
    }
   ],
   "source": [
    "(h + e + y)*100"
   ]
  },
  {
   "cell_type": "code",
   "execution_count": null,
   "id": "e00f1865",
   "metadata": {},
   "outputs": [],
   "source": []
  }
 ],
 "metadata": {
  "kernelspec": {
   "display_name": "Python 3 (ipykernel)",
   "language": "python",
   "name": "python3"
  },
  "language_info": {
   "codemirror_mode": {
    "name": "ipython",
    "version": 3
   },
   "file_extension": ".py",
   "mimetype": "text/x-python",
   "name": "python",
   "nbconvert_exporter": "python",
   "pygments_lexer": "ipython3",
   "version": "3.9.12"
  }
 },
 "nbformat": 4,
 "nbformat_minor": 5
}
