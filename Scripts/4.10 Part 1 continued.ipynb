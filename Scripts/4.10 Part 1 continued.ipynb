{
 "cells": [
  {
   "cell_type": "markdown",
   "id": "d024cd55",
   "metadata": {},
   "source": [
    "## Contents\n",
    "    01. Importing libraries and data\n",
    "    02. Customer Profiling\n",
    "        a. Age grouping\n",
    "        b. Income grouping\n",
    "        c. Department grouping\n",
    "        d. Dependent grouping\n",
    "    03. Hour grouping\n",
    "    04. Additional visualizations and analysis\n",
    "    05. Exporting final dataset and visualizations"
   ]
  },
  {
   "cell_type": "markdown",
   "id": "0567a0ac",
   "metadata": {},
   "source": [
    "## Import libaries"
   ]
  },
  {
   "cell_type": "code",
   "execution_count": 1,
   "id": "e85db49f",
   "metadata": {},
   "outputs": [],
   "source": [
    "import pandas as pd\n",
    "import numpy as np\n",
    "import os\n",
    "import matplotlib.pyplot as plt\n",
    "import seaborn as sns\n",
    "import scipy"
   ]
  },
  {
   "cell_type": "markdown",
   "id": "fc5d4f65",
   "metadata": {},
   "source": [
    "## Import data"
   ]
  },
  {
   "cell_type": "code",
   "execution_count": 2,
   "id": "098b9eb5",
   "metadata": {},
   "outputs": [],
   "source": [
    "# setting path\n",
    "path=r'/Users/alber/Instacart Basket Analysis/'"
   ]
  },
  {
   "cell_type": "code",
   "execution_count": 3,
   "id": "b0ccf42e",
   "metadata": {},
   "outputs": [],
   "source": [
    "# importing dataframe\n",
    "df = pd.read_pickle(os.path.join(path, '02 Data', 'Prepared Data', 'reg_activity_customers.pkl'))"
   ]
  },
  {
   "cell_type": "markdown",
   "id": "a52d8953",
   "metadata": {},
   "source": [
    "## Customer Profiling \n",
    "Dataframe is of customers who are considered 'regular activity customers' which consist of customers having 5 or more orders."
   ]
  },
  {
   "cell_type": "markdown",
   "id": "de859b85",
   "metadata": {},
   "source": [
    "### Age grouping:\n",
    "    Age group 1: 18 <= Young Adult < 35\n",
    "    Age group 2: 35 <= Adult < 60\n",
    "    Age group 2: Senior >= 60"
   ]
  },
  {
   "cell_type": "code",
   "execution_count": 4,
   "id": "052fd6cd",
   "metadata": {},
   "outputs": [
    {
     "data": {
      "text/html": [
       "<div>\n",
       "<style scoped>\n",
       "    .dataframe tbody tr th:only-of-type {\n",
       "        vertical-align: middle;\n",
       "    }\n",
       "\n",
       "    .dataframe tbody tr th {\n",
       "        vertical-align: top;\n",
       "    }\n",
       "\n",
       "    .dataframe thead th {\n",
       "        text-align: right;\n",
       "    }\n",
       "</style>\n",
       "<table border=\"1\" class=\"dataframe\">\n",
       "  <thead>\n",
       "    <tr style=\"text-align: right;\">\n",
       "      <th></th>\n",
       "      <th>order_id</th>\n",
       "      <th>user_id</th>\n",
       "      <th>order_number</th>\n",
       "      <th>orders_day_of_week</th>\n",
       "      <th>order_hour_of_day</th>\n",
       "      <th>days_since_last_order</th>\n",
       "      <th>new_customer</th>\n",
       "      <th>product_id</th>\n",
       "      <th>add_to_cart_order</th>\n",
       "      <th>reordered</th>\n",
       "      <th>...</th>\n",
       "      <th>gender</th>\n",
       "      <th>state</th>\n",
       "      <th>age</th>\n",
       "      <th>date_joined</th>\n",
       "      <th>number_of_dependents</th>\n",
       "      <th>marital_status</th>\n",
       "      <th>income</th>\n",
       "      <th>Region</th>\n",
       "      <th>total_orders</th>\n",
       "      <th>activity_flag</th>\n",
       "    </tr>\n",
       "  </thead>\n",
       "  <tbody>\n",
       "    <tr>\n",
       "      <th>0</th>\n",
       "      <td>2539329</td>\n",
       "      <td>1</td>\n",
       "      <td>1</td>\n",
       "      <td>2</td>\n",
       "      <td>8</td>\n",
       "      <td>NaN</td>\n",
       "      <td>True</td>\n",
       "      <td>196</td>\n",
       "      <td>1</td>\n",
       "      <td>0</td>\n",
       "      <td>...</td>\n",
       "      <td>Female</td>\n",
       "      <td>Alabama</td>\n",
       "      <td>31</td>\n",
       "      <td>2/17/2019</td>\n",
       "      <td>3</td>\n",
       "      <td>married</td>\n",
       "      <td>40423</td>\n",
       "      <td>South</td>\n",
       "      <td>59</td>\n",
       "      <td>Regular Activity</td>\n",
       "    </tr>\n",
       "    <tr>\n",
       "      <th>1</th>\n",
       "      <td>2398795</td>\n",
       "      <td>1</td>\n",
       "      <td>2</td>\n",
       "      <td>3</td>\n",
       "      <td>7</td>\n",
       "      <td>15.0</td>\n",
       "      <td>False</td>\n",
       "      <td>196</td>\n",
       "      <td>1</td>\n",
       "      <td>1</td>\n",
       "      <td>...</td>\n",
       "      <td>Female</td>\n",
       "      <td>Alabama</td>\n",
       "      <td>31</td>\n",
       "      <td>2/17/2019</td>\n",
       "      <td>3</td>\n",
       "      <td>married</td>\n",
       "      <td>40423</td>\n",
       "      <td>South</td>\n",
       "      <td>59</td>\n",
       "      <td>Regular Activity</td>\n",
       "    </tr>\n",
       "    <tr>\n",
       "      <th>2</th>\n",
       "      <td>473747</td>\n",
       "      <td>1</td>\n",
       "      <td>3</td>\n",
       "      <td>3</td>\n",
       "      <td>12</td>\n",
       "      <td>21.0</td>\n",
       "      <td>False</td>\n",
       "      <td>196</td>\n",
       "      <td>1</td>\n",
       "      <td>1</td>\n",
       "      <td>...</td>\n",
       "      <td>Female</td>\n",
       "      <td>Alabama</td>\n",
       "      <td>31</td>\n",
       "      <td>2/17/2019</td>\n",
       "      <td>3</td>\n",
       "      <td>married</td>\n",
       "      <td>40423</td>\n",
       "      <td>South</td>\n",
       "      <td>59</td>\n",
       "      <td>Regular Activity</td>\n",
       "    </tr>\n",
       "    <tr>\n",
       "      <th>3</th>\n",
       "      <td>2254736</td>\n",
       "      <td>1</td>\n",
       "      <td>4</td>\n",
       "      <td>4</td>\n",
       "      <td>7</td>\n",
       "      <td>29.0</td>\n",
       "      <td>False</td>\n",
       "      <td>196</td>\n",
       "      <td>1</td>\n",
       "      <td>1</td>\n",
       "      <td>...</td>\n",
       "      <td>Female</td>\n",
       "      <td>Alabama</td>\n",
       "      <td>31</td>\n",
       "      <td>2/17/2019</td>\n",
       "      <td>3</td>\n",
       "      <td>married</td>\n",
       "      <td>40423</td>\n",
       "      <td>South</td>\n",
       "      <td>59</td>\n",
       "      <td>Regular Activity</td>\n",
       "    </tr>\n",
       "    <tr>\n",
       "      <th>4</th>\n",
       "      <td>431534</td>\n",
       "      <td>1</td>\n",
       "      <td>5</td>\n",
       "      <td>4</td>\n",
       "      <td>15</td>\n",
       "      <td>28.0</td>\n",
       "      <td>False</td>\n",
       "      <td>196</td>\n",
       "      <td>1</td>\n",
       "      <td>1</td>\n",
       "      <td>...</td>\n",
       "      <td>Female</td>\n",
       "      <td>Alabama</td>\n",
       "      <td>31</td>\n",
       "      <td>2/17/2019</td>\n",
       "      <td>3</td>\n",
       "      <td>married</td>\n",
       "      <td>40423</td>\n",
       "      <td>South</td>\n",
       "      <td>59</td>\n",
       "      <td>Regular Activity</td>\n",
       "    </tr>\n",
       "  </tbody>\n",
       "</table>\n",
       "<p>5 rows × 33 columns</p>\n",
       "</div>"
      ],
      "text/plain": [
       "   order_id  user_id  order_number  orders_day_of_week  order_hour_of_day  \\\n",
       "0   2539329        1             1                   2                  8   \n",
       "1   2398795        1             2                   3                  7   \n",
       "2    473747        1             3                   3                 12   \n",
       "3   2254736        1             4                   4                  7   \n",
       "4    431534        1             5                   4                 15   \n",
       "\n",
       "   days_since_last_order  new_customer  product_id  add_to_cart_order  \\\n",
       "0                    NaN          True         196                  1   \n",
       "1                   15.0         False         196                  1   \n",
       "2                   21.0         False         196                  1   \n",
       "3                   29.0         False         196                  1   \n",
       "4                   28.0         False         196                  1   \n",
       "\n",
       "   reordered  ...  gender    state  age date_joined number_of_dependents  \\\n",
       "0          0  ...  Female  Alabama   31   2/17/2019                    3   \n",
       "1          1  ...  Female  Alabama   31   2/17/2019                    3   \n",
       "2          1  ...  Female  Alabama   31   2/17/2019                    3   \n",
       "3          1  ...  Female  Alabama   31   2/17/2019                    3   \n",
       "4          1  ...  Female  Alabama   31   2/17/2019                    3   \n",
       "\n",
       "  marital_status income  Region total_orders     activity_flag  \n",
       "0        married  40423   South           59  Regular Activity  \n",
       "1        married  40423   South           59  Regular Activity  \n",
       "2        married  40423   South           59  Regular Activity  \n",
       "3        married  40423   South           59  Regular Activity  \n",
       "4        married  40423   South           59  Regular Activity  \n",
       "\n",
       "[5 rows x 33 columns]"
      ]
     },
     "execution_count": 4,
     "metadata": {},
     "output_type": "execute_result"
    }
   ],
   "source": [
    "df.head()"
   ]
  },
  {
   "cell_type": "code",
   "execution_count": 5,
   "id": "0ec7e759",
   "metadata": {},
   "outputs": [
    {
     "data": {
      "text/plain": [
       "2    12708810\n",
       "3    11066290\n",
       "1     8626875\n",
       "Name: age_range, dtype: int64"
      ]
     },
     "execution_count": 5,
     "metadata": {},
     "output_type": "execute_result"
    }
   ],
   "source": [
    "# using .loc to create profiling variable based on age\n",
    "df.loc[(df['age'] >= 18) & (df['age'] < 35), 'age_range'] = '1'\n",
    "df.loc[(df['age'] >= 35) & (df['age'] < 60), 'age_range'] = '2'\n",
    "df.loc[(df['age'] >= 60), 'age_range'] = '3'\n",
    "df['age_range'].value_counts()"
   ]
  },
  {
   "cell_type": "code",
   "execution_count": 6,
   "id": "4938fa4c",
   "metadata": {},
   "outputs": [
    {
     "data": {
      "text/plain": [
       "32401975"
      ]
     },
     "execution_count": 6,
     "metadata": {},
     "output_type": "execute_result"
    }
   ],
   "source": [
    "# checking to make sure all data was grouped\n",
    "12708810 + 11066290 + 8626875"
   ]
  },
  {
   "cell_type": "code",
   "execution_count": 7,
   "id": "969a58ba",
   "metadata": {},
   "outputs": [
    {
     "data": {
      "text/plain": [
       "(32401975, 34)"
      ]
     },
     "execution_count": 7,
     "metadata": {},
     "output_type": "execute_result"
    }
   ],
   "source": [
    "df.shape"
   ]
  },
  {
   "cell_type": "markdown",
   "id": "58b1fb19",
   "metadata": {},
   "source": [
    "Most customers (12,708,810) are between 46 and 59 years old and fall into the 'adult' range and the least customers (8,626,875) fall into the 'senior' age range."
   ]
  },
  {
   "cell_type": "markdown",
   "id": "08228a4f",
   "metadata": {},
   "source": [
    "## Income Grouping\n",
    "     Low income: < $50,000\n",
    " Middle income: Between $50,000 and $120,000\n",
    " High income: > $120,000"
   ]
  },
  {
   "cell_type": "code",
   "execution_count": 8,
   "id": "6400f8bf",
   "metadata": {
    "scrolled": true
   },
   "outputs": [
    {
     "data": {
      "text/plain": [
       "Middle Income    19238403\n",
       "High Income       9570582\n",
       "Low Income        3592990\n",
       "Name: income_flag, dtype: int64"
      ]
     },
     "execution_count": 8,
     "metadata": {},
     "output_type": "execute_result"
    }
   ],
   "source": [
    "# creating income flags\n",
    "df.loc[df['income']<50000, 'income_flag'] ='Low Income'\n",
    "df.loc[(df['income']>=50000) & (df['income']<=120000),'income_flag'] = 'Middle Income'\n",
    "df.loc[(df['income']>120000),'income_flag'] = 'High Income'\n",
    "df['income_flag'].value_counts(dropna=False)"
   ]
  },
  {
   "cell_type": "code",
   "execution_count": 9,
   "id": "1942e8ee",
   "metadata": {},
   "outputs": [],
   "source": [
    "# making sure all data was grouped successfully"
   ]
  },
  {
   "cell_type": "code",
   "execution_count": 10,
   "id": "5e37d7ef",
   "metadata": {},
   "outputs": [
    {
     "data": {
      "text/plain": [
       "32401975"
      ]
     },
     "execution_count": 10,
     "metadata": {},
     "output_type": "execute_result"
    }
   ],
   "source": [
    "19238403 + 9570582 + 3592990"
   ]
  },
  {
   "cell_type": "markdown",
   "id": "5c50a58e",
   "metadata": {},
   "source": [
    "The majority of customers (19,238,403) is within the 'Middle income' bracket making between 50,000 and 120,000. The least amount of customers (3,592,990) is within the 'Low income' making under 50,000."
   ]
  },
  {
   "cell_type": "markdown",
   "id": "81e61faf",
   "metadata": {},
   "source": [
    "## Department grouping"
   ]
  },
  {
   "cell_type": "code",
   "execution_count": 11,
   "id": "f26ed247",
   "metadata": {},
   "outputs": [],
   "source": [
    "# import department df\n",
    "dep=pd.read_csv(os.path.join(path, '02 Data', 'Prepared Data', 'departments_wrangled.csv'),index_col=False)"
   ]
  },
  {
   "cell_type": "code",
   "execution_count": 12,
   "id": "caf05e43",
   "metadata": {},
   "outputs": [
    {
     "data": {
      "text/plain": [
       "{1: 'frozen',\n",
       " 2: 'other',\n",
       " 3: 'bakery',\n",
       " 4: 'produce',\n",
       " 5: 'alcohol',\n",
       " 6: 'international',\n",
       " 7: 'beverages',\n",
       " 8: 'pets',\n",
       " 9: 'dry goods pasta',\n",
       " 10: 'bulk',\n",
       " 11: 'personal care',\n",
       " 12: 'meat seafood',\n",
       " 13: 'pantry',\n",
       " 14: 'breakfast',\n",
       " 15: 'canned goods',\n",
       " 16: 'dairy eggs',\n",
       " 17: 'household',\n",
       " 18: 'babies',\n",
       " 19: 'snacks',\n",
       " 20: 'deli',\n",
       " 21: 'missing'}"
      ]
     },
     "execution_count": 12,
     "metadata": {},
     "output_type": "execute_result"
    }
   ],
   "source": [
    "# creating data dictionary for department id\n",
    "zipped = zip(dep['Unnamed: 0'], dep['department'])\n",
    "data_dict=dict(zipped)\n",
    "data_dict"
   ]
  },
  {
   "cell_type": "code",
   "execution_count": 13,
   "id": "97369ab2",
   "metadata": {},
   "outputs": [
    {
     "data": {
      "text/html": [
       "<div>\n",
       "<style scoped>\n",
       "    .dataframe tbody tr th:only-of-type {\n",
       "        vertical-align: middle;\n",
       "    }\n",
       "\n",
       "    .dataframe tbody tr th {\n",
       "        vertical-align: top;\n",
       "    }\n",
       "\n",
       "    .dataframe thead th {\n",
       "        text-align: right;\n",
       "    }\n",
       "</style>\n",
       "<table border=\"1\" class=\"dataframe\">\n",
       "  <thead>\n",
       "    <tr style=\"text-align: right;\">\n",
       "      <th></th>\n",
       "      <th>order_id</th>\n",
       "      <th>user_id</th>\n",
       "      <th>order_number</th>\n",
       "      <th>orders_day_of_week</th>\n",
       "      <th>order_hour_of_day</th>\n",
       "      <th>days_since_last_order</th>\n",
       "      <th>new_customer</th>\n",
       "      <th>product_id</th>\n",
       "      <th>add_to_cart_order</th>\n",
       "      <th>reordered</th>\n",
       "      <th>...</th>\n",
       "      <th>date_joined</th>\n",
       "      <th>number_of_dependents</th>\n",
       "      <th>marital_status</th>\n",
       "      <th>income</th>\n",
       "      <th>Region</th>\n",
       "      <th>total_orders</th>\n",
       "      <th>activity_flag</th>\n",
       "      <th>age_range</th>\n",
       "      <th>income_flag</th>\n",
       "      <th>department</th>\n",
       "    </tr>\n",
       "  </thead>\n",
       "  <tbody>\n",
       "    <tr>\n",
       "      <th>0</th>\n",
       "      <td>2539329</td>\n",
       "      <td>1</td>\n",
       "      <td>1</td>\n",
       "      <td>2</td>\n",
       "      <td>8</td>\n",
       "      <td>NaN</td>\n",
       "      <td>True</td>\n",
       "      <td>196</td>\n",
       "      <td>1</td>\n",
       "      <td>0</td>\n",
       "      <td>...</td>\n",
       "      <td>2/17/2019</td>\n",
       "      <td>3</td>\n",
       "      <td>married</td>\n",
       "      <td>40423</td>\n",
       "      <td>South</td>\n",
       "      <td>59</td>\n",
       "      <td>Regular Activity</td>\n",
       "      <td>1</td>\n",
       "      <td>Low Income</td>\n",
       "      <td>beverages</td>\n",
       "    </tr>\n",
       "    <tr>\n",
       "      <th>1</th>\n",
       "      <td>2398795</td>\n",
       "      <td>1</td>\n",
       "      <td>2</td>\n",
       "      <td>3</td>\n",
       "      <td>7</td>\n",
       "      <td>15.0</td>\n",
       "      <td>False</td>\n",
       "      <td>196</td>\n",
       "      <td>1</td>\n",
       "      <td>1</td>\n",
       "      <td>...</td>\n",
       "      <td>2/17/2019</td>\n",
       "      <td>3</td>\n",
       "      <td>married</td>\n",
       "      <td>40423</td>\n",
       "      <td>South</td>\n",
       "      <td>59</td>\n",
       "      <td>Regular Activity</td>\n",
       "      <td>1</td>\n",
       "      <td>Low Income</td>\n",
       "      <td>beverages</td>\n",
       "    </tr>\n",
       "    <tr>\n",
       "      <th>2</th>\n",
       "      <td>473747</td>\n",
       "      <td>1</td>\n",
       "      <td>3</td>\n",
       "      <td>3</td>\n",
       "      <td>12</td>\n",
       "      <td>21.0</td>\n",
       "      <td>False</td>\n",
       "      <td>196</td>\n",
       "      <td>1</td>\n",
       "      <td>1</td>\n",
       "      <td>...</td>\n",
       "      <td>2/17/2019</td>\n",
       "      <td>3</td>\n",
       "      <td>married</td>\n",
       "      <td>40423</td>\n",
       "      <td>South</td>\n",
       "      <td>59</td>\n",
       "      <td>Regular Activity</td>\n",
       "      <td>1</td>\n",
       "      <td>Low Income</td>\n",
       "      <td>beverages</td>\n",
       "    </tr>\n",
       "    <tr>\n",
       "      <th>3</th>\n",
       "      <td>2254736</td>\n",
       "      <td>1</td>\n",
       "      <td>4</td>\n",
       "      <td>4</td>\n",
       "      <td>7</td>\n",
       "      <td>29.0</td>\n",
       "      <td>False</td>\n",
       "      <td>196</td>\n",
       "      <td>1</td>\n",
       "      <td>1</td>\n",
       "      <td>...</td>\n",
       "      <td>2/17/2019</td>\n",
       "      <td>3</td>\n",
       "      <td>married</td>\n",
       "      <td>40423</td>\n",
       "      <td>South</td>\n",
       "      <td>59</td>\n",
       "      <td>Regular Activity</td>\n",
       "      <td>1</td>\n",
       "      <td>Low Income</td>\n",
       "      <td>beverages</td>\n",
       "    </tr>\n",
       "    <tr>\n",
       "      <th>4</th>\n",
       "      <td>431534</td>\n",
       "      <td>1</td>\n",
       "      <td>5</td>\n",
       "      <td>4</td>\n",
       "      <td>15</td>\n",
       "      <td>28.0</td>\n",
       "      <td>False</td>\n",
       "      <td>196</td>\n",
       "      <td>1</td>\n",
       "      <td>1</td>\n",
       "      <td>...</td>\n",
       "      <td>2/17/2019</td>\n",
       "      <td>3</td>\n",
       "      <td>married</td>\n",
       "      <td>40423</td>\n",
       "      <td>South</td>\n",
       "      <td>59</td>\n",
       "      <td>Regular Activity</td>\n",
       "      <td>1</td>\n",
       "      <td>Low Income</td>\n",
       "      <td>beverages</td>\n",
       "    </tr>\n",
       "  </tbody>\n",
       "</table>\n",
       "<p>5 rows × 36 columns</p>\n",
       "</div>"
      ],
      "text/plain": [
       "   order_id  user_id  order_number  orders_day_of_week  order_hour_of_day  \\\n",
       "0   2539329        1             1                   2                  8   \n",
       "1   2398795        1             2                   3                  7   \n",
       "2    473747        1             3                   3                 12   \n",
       "3   2254736        1             4                   4                  7   \n",
       "4    431534        1             5                   4                 15   \n",
       "\n",
       "   days_since_last_order  new_customer  product_id  add_to_cart_order  \\\n",
       "0                    NaN          True         196                  1   \n",
       "1                   15.0         False         196                  1   \n",
       "2                   21.0         False         196                  1   \n",
       "3                   29.0         False         196                  1   \n",
       "4                   28.0         False         196                  1   \n",
       "\n",
       "   reordered  ... date_joined  number_of_dependents  marital_status income  \\\n",
       "0          0  ...   2/17/2019                     3         married  40423   \n",
       "1          1  ...   2/17/2019                     3         married  40423   \n",
       "2          1  ...   2/17/2019                     3         married  40423   \n",
       "3          1  ...   2/17/2019                     3         married  40423   \n",
       "4          1  ...   2/17/2019                     3         married  40423   \n",
       "\n",
       "  Region total_orders     activity_flag  age_range income_flag  department  \n",
       "0  South           59  Regular Activity          1  Low Income   beverages  \n",
       "1  South           59  Regular Activity          1  Low Income   beverages  \n",
       "2  South           59  Regular Activity          1  Low Income   beverages  \n",
       "3  South           59  Regular Activity          1  Low Income   beverages  \n",
       "4  South           59  Regular Activity          1  Low Income   beverages  \n",
       "\n",
       "[5 rows x 36 columns]"
      ]
     },
     "execution_count": 13,
     "metadata": {},
     "output_type": "execute_result"
    }
   ],
   "source": [
    "# mapping department names to department id in dataframe\n",
    "df['department']=df['department_id'].map(data_dict)\n",
    "df.head()"
   ]
  },
  {
   "cell_type": "code",
   "execution_count": 14,
   "id": "54f8bf74",
   "metadata": {},
   "outputs": [
    {
     "data": {
      "text/html": [
       "<div>\n",
       "<style scoped>\n",
       "    .dataframe tbody tr th:only-of-type {\n",
       "        vertical-align: middle;\n",
       "    }\n",
       "\n",
       "    .dataframe tbody tr th {\n",
       "        vertical-align: top;\n",
       "    }\n",
       "\n",
       "    .dataframe thead th {\n",
       "        text-align: right;\n",
       "    }\n",
       "</style>\n",
       "<table border=\"1\" class=\"dataframe\">\n",
       "  <thead>\n",
       "    <tr style=\"text-align: right;\">\n",
       "      <th></th>\n",
       "      <th>order_id</th>\n",
       "      <th>user_id</th>\n",
       "      <th>order_number</th>\n",
       "      <th>orders_day_of_week</th>\n",
       "      <th>order_hour_of_day</th>\n",
       "      <th>days_since_last_order</th>\n",
       "      <th>new_customer</th>\n",
       "      <th>product_id</th>\n",
       "      <th>add_to_cart_order</th>\n",
       "      <th>reordered</th>\n",
       "      <th>...</th>\n",
       "      <th>date_joined</th>\n",
       "      <th>number_of_dependents</th>\n",
       "      <th>marital_status</th>\n",
       "      <th>income</th>\n",
       "      <th>Region</th>\n",
       "      <th>total_orders</th>\n",
       "      <th>activity_flag</th>\n",
       "      <th>age_range</th>\n",
       "      <th>income_flag</th>\n",
       "      <th>department</th>\n",
       "    </tr>\n",
       "  </thead>\n",
       "  <tbody>\n",
       "    <tr>\n",
       "      <th>1508</th>\n",
       "      <td>1382150</td>\n",
       "      <td>109</td>\n",
       "      <td>6</td>\n",
       "      <td>1</td>\n",
       "      <td>9</td>\n",
       "      <td>15.0</td>\n",
       "      <td>False</td>\n",
       "      <td>3858</td>\n",
       "      <td>5</td>\n",
       "      <td>0</td>\n",
       "      <td>...</td>\n",
       "      <td>7/29/2018</td>\n",
       "      <td>1</td>\n",
       "      <td>married</td>\n",
       "      <td>41805</td>\n",
       "      <td>Northeast</td>\n",
       "      <td>69</td>\n",
       "      <td>Regular Activity</td>\n",
       "      <td>3</td>\n",
       "      <td>Low Income</td>\n",
       "      <td>babies</td>\n",
       "    </tr>\n",
       "    <tr>\n",
       "      <th>2893</th>\n",
       "      <td>2684151</td>\n",
       "      <td>290</td>\n",
       "      <td>22</td>\n",
       "      <td>6</td>\n",
       "      <td>10</td>\n",
       "      <td>7.0</td>\n",
       "      <td>False</td>\n",
       "      <td>45309</td>\n",
       "      <td>32</td>\n",
       "      <td>0</td>\n",
       "      <td>...</td>\n",
       "      <td>5/18/2019</td>\n",
       "      <td>1</td>\n",
       "      <td>married</td>\n",
       "      <td>55550</td>\n",
       "      <td>Midwest</td>\n",
       "      <td>1590</td>\n",
       "      <td>Regular Activity</td>\n",
       "      <td>1</td>\n",
       "      <td>Middle Income</td>\n",
       "      <td>babies</td>\n",
       "    </tr>\n",
       "    <tr>\n",
       "      <th>3508</th>\n",
       "      <td>2684151</td>\n",
       "      <td>290</td>\n",
       "      <td>22</td>\n",
       "      <td>6</td>\n",
       "      <td>10</td>\n",
       "      <td>7.0</td>\n",
       "      <td>False</td>\n",
       "      <td>15076</td>\n",
       "      <td>33</td>\n",
       "      <td>0</td>\n",
       "      <td>...</td>\n",
       "      <td>5/18/2019</td>\n",
       "      <td>1</td>\n",
       "      <td>married</td>\n",
       "      <td>55550</td>\n",
       "      <td>Midwest</td>\n",
       "      <td>1590</td>\n",
       "      <td>Regular Activity</td>\n",
       "      <td>1</td>\n",
       "      <td>Middle Income</td>\n",
       "      <td>babies</td>\n",
       "    </tr>\n",
       "    <tr>\n",
       "      <th>3982</th>\n",
       "      <td>2332460</td>\n",
       "      <td>420</td>\n",
       "      <td>21</td>\n",
       "      <td>5</td>\n",
       "      <td>17</td>\n",
       "      <td>11.0</td>\n",
       "      <td>False</td>\n",
       "      <td>14408</td>\n",
       "      <td>1</td>\n",
       "      <td>0</td>\n",
       "      <td>...</td>\n",
       "      <td>10/17/2018</td>\n",
       "      <td>2</td>\n",
       "      <td>married</td>\n",
       "      <td>97248</td>\n",
       "      <td>West</td>\n",
       "      <td>123</td>\n",
       "      <td>Regular Activity</td>\n",
       "      <td>1</td>\n",
       "      <td>Middle Income</td>\n",
       "      <td>babies</td>\n",
       "    </tr>\n",
       "    <tr>\n",
       "      <th>4030</th>\n",
       "      <td>58188</td>\n",
       "      <td>420</td>\n",
       "      <td>3</td>\n",
       "      <td>6</td>\n",
       "      <td>13</td>\n",
       "      <td>23.0</td>\n",
       "      <td>False</td>\n",
       "      <td>30161</td>\n",
       "      <td>7</td>\n",
       "      <td>0</td>\n",
       "      <td>...</td>\n",
       "      <td>10/17/2018</td>\n",
       "      <td>2</td>\n",
       "      <td>married</td>\n",
       "      <td>97248</td>\n",
       "      <td>West</td>\n",
       "      <td>123</td>\n",
       "      <td>Regular Activity</td>\n",
       "      <td>1</td>\n",
       "      <td>Middle Income</td>\n",
       "      <td>babies</td>\n",
       "    </tr>\n",
       "  </tbody>\n",
       "</table>\n",
       "<p>5 rows × 36 columns</p>\n",
       "</div>"
      ],
      "text/plain": [
       "      order_id  user_id  order_number  orders_day_of_week  order_hour_of_day  \\\n",
       "1508   1382150      109             6                   1                  9   \n",
       "2893   2684151      290            22                   6                 10   \n",
       "3508   2684151      290            22                   6                 10   \n",
       "3982   2332460      420            21                   5                 17   \n",
       "4030     58188      420             3                   6                 13   \n",
       "\n",
       "      days_since_last_order  new_customer  product_id  add_to_cart_order  \\\n",
       "1508                   15.0         False        3858                  5   \n",
       "2893                    7.0         False       45309                 32   \n",
       "3508                    7.0         False       15076                 33   \n",
       "3982                   11.0         False       14408                  1   \n",
       "4030                   23.0         False       30161                  7   \n",
       "\n",
       "      reordered  ... date_joined  number_of_dependents  marital_status income  \\\n",
       "1508          0  ...   7/29/2018                     1         married  41805   \n",
       "2893          0  ...   5/18/2019                     1         married  55550   \n",
       "3508          0  ...   5/18/2019                     1         married  55550   \n",
       "3982          0  ...  10/17/2018                     2         married  97248   \n",
       "4030          0  ...  10/17/2018                     2         married  97248   \n",
       "\n",
       "         Region total_orders     activity_flag  age_range    income_flag  \\\n",
       "1508  Northeast           69  Regular Activity          3     Low Income   \n",
       "2893    Midwest         1590  Regular Activity          1  Middle Income   \n",
       "3508    Midwest         1590  Regular Activity          1  Middle Income   \n",
       "3982       West          123  Regular Activity          1  Middle Income   \n",
       "4030       West          123  Regular Activity          1  Middle Income   \n",
       "\n",
       "      department  \n",
       "1508      babies  \n",
       "2893      babies  \n",
       "3508      babies  \n",
       "3982      babies  \n",
       "4030      babies  \n",
       "\n",
       "[5 rows x 36 columns]"
      ]
     },
     "execution_count": 14,
     "metadata": {},
     "output_type": "execute_result"
    }
   ],
   "source": [
    "# creating subset for customers who purchased baby products\n",
    "parent_customers=df.loc[df['department']=='babies']\n",
    "parent_customers.head()"
   ]
  },
  {
   "cell_type": "code",
   "execution_count": 15,
   "id": "9ac9040b",
   "metadata": {},
   "outputs": [
    {
     "data": {
      "text/html": [
       "<div>\n",
       "<style scoped>\n",
       "    .dataframe tbody tr th:only-of-type {\n",
       "        vertical-align: middle;\n",
       "    }\n",
       "\n",
       "    .dataframe tbody tr th {\n",
       "        vertical-align: top;\n",
       "    }\n",
       "\n",
       "    .dataframe thead tr th {\n",
       "        text-align: left;\n",
       "    }\n",
       "\n",
       "    .dataframe thead tr:last-of-type th {\n",
       "        text-align: right;\n",
       "    }\n",
       "</style>\n",
       "<table border=\"1\" class=\"dataframe\">\n",
       "  <thead>\n",
       "    <tr>\n",
       "      <th></th>\n",
       "      <th colspan=\"3\" halign=\"left\">prices</th>\n",
       "    </tr>\n",
       "    <tr>\n",
       "      <th></th>\n",
       "      <th>mean</th>\n",
       "      <th>min</th>\n",
       "      <th>max</th>\n",
       "    </tr>\n",
       "    <tr>\n",
       "      <th>department</th>\n",
       "      <th></th>\n",
       "      <th></th>\n",
       "      <th></th>\n",
       "    </tr>\n",
       "  </thead>\n",
       "  <tbody>\n",
       "    <tr>\n",
       "      <th>babies</th>\n",
       "      <td>7.638374</td>\n",
       "      <td>1.0</td>\n",
       "      <td>15.0</td>\n",
       "    </tr>\n",
       "  </tbody>\n",
       "</table>\n",
       "</div>"
      ],
      "text/plain": [
       "              prices           \n",
       "                mean  min   max\n",
       "department                     \n",
       "babies      7.638374  1.0  15.0"
      ]
     },
     "execution_count": 15,
     "metadata": {},
     "output_type": "execute_result"
    }
   ],
   "source": [
    "# aggregating for parent expenditure\n",
    "parent_customers.groupby('department').agg({'prices':['mean','min','max']})"
   ]
  },
  {
   "cell_type": "code",
   "execution_count": 16,
   "id": "35266342",
   "metadata": {},
   "outputs": [
    {
     "data": {
      "text/html": [
       "<div>\n",
       "<style scoped>\n",
       "    .dataframe tbody tr th:only-of-type {\n",
       "        vertical-align: middle;\n",
       "    }\n",
       "\n",
       "    .dataframe tbody tr th {\n",
       "        vertical-align: top;\n",
       "    }\n",
       "\n",
       "    .dataframe thead th {\n",
       "        text-align: right;\n",
       "    }\n",
       "</style>\n",
       "<table border=\"1\" class=\"dataframe\">\n",
       "  <thead>\n",
       "    <tr style=\"text-align: right;\">\n",
       "      <th></th>\n",
       "      <th>order_id</th>\n",
       "      <th>user_id</th>\n",
       "      <th>order_number</th>\n",
       "      <th>orders_day_of_week</th>\n",
       "      <th>order_hour_of_day</th>\n",
       "      <th>days_since_last_order</th>\n",
       "      <th>new_customer</th>\n",
       "      <th>product_id</th>\n",
       "      <th>add_to_cart_order</th>\n",
       "      <th>reordered</th>\n",
       "      <th>...</th>\n",
       "      <th>date_joined</th>\n",
       "      <th>number_of_dependents</th>\n",
       "      <th>marital_status</th>\n",
       "      <th>income</th>\n",
       "      <th>Region</th>\n",
       "      <th>total_orders</th>\n",
       "      <th>activity_flag</th>\n",
       "      <th>age_range</th>\n",
       "      <th>income_flag</th>\n",
       "      <th>department</th>\n",
       "    </tr>\n",
       "  </thead>\n",
       "  <tbody>\n",
       "    <tr>\n",
       "      <th>1495</th>\n",
       "      <td>659764</td>\n",
       "      <td>109</td>\n",
       "      <td>4</td>\n",
       "      <td>2</td>\n",
       "      <td>5</td>\n",
       "      <td>20.0</td>\n",
       "      <td>False</td>\n",
       "      <td>36273</td>\n",
       "      <td>9</td>\n",
       "      <td>0</td>\n",
       "      <td>...</td>\n",
       "      <td>7/29/2018</td>\n",
       "      <td>1</td>\n",
       "      <td>married</td>\n",
       "      <td>41805</td>\n",
       "      <td>Northeast</td>\n",
       "      <td>69</td>\n",
       "      <td>Regular Activity</td>\n",
       "      <td>3</td>\n",
       "      <td>Low Income</td>\n",
       "      <td>pets</td>\n",
       "    </tr>\n",
       "    <tr>\n",
       "      <th>1496</th>\n",
       "      <td>3116901</td>\n",
       "      <td>109</td>\n",
       "      <td>5</td>\n",
       "      <td>0</td>\n",
       "      <td>7</td>\n",
       "      <td>26.0</td>\n",
       "      <td>False</td>\n",
       "      <td>36273</td>\n",
       "      <td>3</td>\n",
       "      <td>1</td>\n",
       "      <td>...</td>\n",
       "      <td>7/29/2018</td>\n",
       "      <td>1</td>\n",
       "      <td>married</td>\n",
       "      <td>41805</td>\n",
       "      <td>Northeast</td>\n",
       "      <td>69</td>\n",
       "      <td>Regular Activity</td>\n",
       "      <td>3</td>\n",
       "      <td>Low Income</td>\n",
       "      <td>pets</td>\n",
       "    </tr>\n",
       "    <tr>\n",
       "      <th>2791</th>\n",
       "      <td>1439283</td>\n",
       "      <td>290</td>\n",
       "      <td>2</td>\n",
       "      <td>6</td>\n",
       "      <td>14</td>\n",
       "      <td>7.0</td>\n",
       "      <td>False</td>\n",
       "      <td>25860</td>\n",
       "      <td>8</td>\n",
       "      <td>0</td>\n",
       "      <td>...</td>\n",
       "      <td>5/18/2019</td>\n",
       "      <td>1</td>\n",
       "      <td>married</td>\n",
       "      <td>55550</td>\n",
       "      <td>Midwest</td>\n",
       "      <td>1590</td>\n",
       "      <td>Regular Activity</td>\n",
       "      <td>1</td>\n",
       "      <td>Middle Income</td>\n",
       "      <td>pets</td>\n",
       "    </tr>\n",
       "    <tr>\n",
       "      <th>2792</th>\n",
       "      <td>3080196</td>\n",
       "      <td>290</td>\n",
       "      <td>3</td>\n",
       "      <td>6</td>\n",
       "      <td>12</td>\n",
       "      <td>7.0</td>\n",
       "      <td>False</td>\n",
       "      <td>25860</td>\n",
       "      <td>21</td>\n",
       "      <td>1</td>\n",
       "      <td>...</td>\n",
       "      <td>5/18/2019</td>\n",
       "      <td>1</td>\n",
       "      <td>married</td>\n",
       "      <td>55550</td>\n",
       "      <td>Midwest</td>\n",
       "      <td>1590</td>\n",
       "      <td>Regular Activity</td>\n",
       "      <td>1</td>\n",
       "      <td>Middle Income</td>\n",
       "      <td>pets</td>\n",
       "    </tr>\n",
       "    <tr>\n",
       "      <th>2793</th>\n",
       "      <td>2881272</td>\n",
       "      <td>290</td>\n",
       "      <td>4</td>\n",
       "      <td>6</td>\n",
       "      <td>10</td>\n",
       "      <td>7.0</td>\n",
       "      <td>False</td>\n",
       "      <td>25860</td>\n",
       "      <td>7</td>\n",
       "      <td>1</td>\n",
       "      <td>...</td>\n",
       "      <td>5/18/2019</td>\n",
       "      <td>1</td>\n",
       "      <td>married</td>\n",
       "      <td>55550</td>\n",
       "      <td>Midwest</td>\n",
       "      <td>1590</td>\n",
       "      <td>Regular Activity</td>\n",
       "      <td>1</td>\n",
       "      <td>Middle Income</td>\n",
       "      <td>pets</td>\n",
       "    </tr>\n",
       "  </tbody>\n",
       "</table>\n",
       "<p>5 rows × 36 columns</p>\n",
       "</div>"
      ],
      "text/plain": [
       "      order_id  user_id  order_number  orders_day_of_week  order_hour_of_day  \\\n",
       "1495    659764      109             4                   2                  5   \n",
       "1496   3116901      109             5                   0                  7   \n",
       "2791   1439283      290             2                   6                 14   \n",
       "2792   3080196      290             3                   6                 12   \n",
       "2793   2881272      290             4                   6                 10   \n",
       "\n",
       "      days_since_last_order  new_customer  product_id  add_to_cart_order  \\\n",
       "1495                   20.0         False       36273                  9   \n",
       "1496                   26.0         False       36273                  3   \n",
       "2791                    7.0         False       25860                  8   \n",
       "2792                    7.0         False       25860                 21   \n",
       "2793                    7.0         False       25860                  7   \n",
       "\n",
       "      reordered  ... date_joined  number_of_dependents  marital_status income  \\\n",
       "1495          0  ...   7/29/2018                     1         married  41805   \n",
       "1496          1  ...   7/29/2018                     1         married  41805   \n",
       "2791          0  ...   5/18/2019                     1         married  55550   \n",
       "2792          1  ...   5/18/2019                     1         married  55550   \n",
       "2793          1  ...   5/18/2019                     1         married  55550   \n",
       "\n",
       "         Region total_orders     activity_flag  age_range    income_flag  \\\n",
       "1495  Northeast           69  Regular Activity          3     Low Income   \n",
       "1496  Northeast           69  Regular Activity          3     Low Income   \n",
       "2791    Midwest         1590  Regular Activity          1  Middle Income   \n",
       "2792    Midwest         1590  Regular Activity          1  Middle Income   \n",
       "2793    Midwest         1590  Regular Activity          1  Middle Income   \n",
       "\n",
       "      department  \n",
       "1495        pets  \n",
       "1496        pets  \n",
       "2791        pets  \n",
       "2792        pets  \n",
       "2793        pets  \n",
       "\n",
       "[5 rows x 36 columns]"
      ]
     },
     "execution_count": 16,
     "metadata": {},
     "output_type": "execute_result"
    }
   ],
   "source": [
    "# creating subset for customers who purchased pet products\n",
    "pet_customers=df.loc[df['department']=='pets']\n",
    "pet_customers.head()"
   ]
  },
  {
   "cell_type": "code",
   "execution_count": 17,
   "id": "bc770964",
   "metadata": {},
   "outputs": [
    {
     "data": {
      "text/html": [
       "<div>\n",
       "<style scoped>\n",
       "    .dataframe tbody tr th:only-of-type {\n",
       "        vertical-align: middle;\n",
       "    }\n",
       "\n",
       "    .dataframe tbody tr th {\n",
       "        vertical-align: top;\n",
       "    }\n",
       "\n",
       "    .dataframe thead tr th {\n",
       "        text-align: left;\n",
       "    }\n",
       "\n",
       "    .dataframe thead tr:last-of-type th {\n",
       "        text-align: right;\n",
       "    }\n",
       "</style>\n",
       "<table border=\"1\" class=\"dataframe\">\n",
       "  <thead>\n",
       "    <tr>\n",
       "      <th></th>\n",
       "      <th colspan=\"3\" halign=\"left\">prices</th>\n",
       "    </tr>\n",
       "    <tr>\n",
       "      <th></th>\n",
       "      <th>mean</th>\n",
       "      <th>min</th>\n",
       "      <th>max</th>\n",
       "    </tr>\n",
       "    <tr>\n",
       "      <th>department</th>\n",
       "      <th></th>\n",
       "      <th></th>\n",
       "      <th></th>\n",
       "    </tr>\n",
       "  </thead>\n",
       "  <tbody>\n",
       "    <tr>\n",
       "      <th>pets</th>\n",
       "      <td>7.889181</td>\n",
       "      <td>1.0</td>\n",
       "      <td>15.0</td>\n",
       "    </tr>\n",
       "  </tbody>\n",
       "</table>\n",
       "</div>"
      ],
      "text/plain": [
       "              prices           \n",
       "                mean  min   max\n",
       "department                     \n",
       "pets        7.889181  1.0  15.0"
      ]
     },
     "execution_count": 17,
     "metadata": {},
     "output_type": "execute_result"
    }
   ],
   "source": [
    "pet_customers.groupby('department').agg({'prices':['mean','min','max']})"
   ]
  },
  {
   "cell_type": "code",
   "execution_count": 18,
   "id": "c520dd5b",
   "metadata": {},
   "outputs": [
    {
     "data": {
      "text/html": [
       "<div>\n",
       "<style scoped>\n",
       "    .dataframe tbody tr th:only-of-type {\n",
       "        vertical-align: middle;\n",
       "    }\n",
       "\n",
       "    .dataframe tbody tr th {\n",
       "        vertical-align: top;\n",
       "    }\n",
       "\n",
       "    .dataframe thead th {\n",
       "        text-align: right;\n",
       "    }\n",
       "</style>\n",
       "<table border=\"1\" class=\"dataframe\">\n",
       "  <thead>\n",
       "    <tr style=\"text-align: right;\">\n",
       "      <th></th>\n",
       "      <th>prices</th>\n",
       "    </tr>\n",
       "    <tr>\n",
       "      <th>department</th>\n",
       "      <th></th>\n",
       "    </tr>\n",
       "  </thead>\n",
       "  <tbody>\n",
       "    <tr>\n",
       "      <th>dairy eggs</th>\n",
       "      <td>180644624.2</td>\n",
       "    </tr>\n",
       "    <tr>\n",
       "      <th>produce</th>\n",
       "      <td>75656922.6</td>\n",
       "    </tr>\n",
       "    <tr>\n",
       "      <th>beverages</th>\n",
       "      <td>20641141.2</td>\n",
       "    </tr>\n",
       "    <tr>\n",
       "      <th>frozen</th>\n",
       "      <td>17287788.3</td>\n",
       "    </tr>\n",
       "    <tr>\n",
       "      <th>pantry</th>\n",
       "      <td>15019386.3</td>\n",
       "    </tr>\n",
       "    <tr>\n",
       "      <th>snacks</th>\n",
       "      <td>12344405.5</td>\n",
       "    </tr>\n",
       "    <tr>\n",
       "      <th>meat seafood</th>\n",
       "      <td>11550802.4</td>\n",
       "    </tr>\n",
       "    <tr>\n",
       "      <th>bakery</th>\n",
       "      <td>9207464.0</td>\n",
       "    </tr>\n",
       "    <tr>\n",
       "      <th>deli</th>\n",
       "      <td>8176975.6</td>\n",
       "    </tr>\n",
       "    <tr>\n",
       "      <th>canned goods</th>\n",
       "      <td>8052882.2</td>\n",
       "    </tr>\n",
       "    <tr>\n",
       "      <th>dry goods pasta</th>\n",
       "      <td>6369832.8</td>\n",
       "    </tr>\n",
       "    <tr>\n",
       "      <th>breakfast</th>\n",
       "      <td>5644292.9</td>\n",
       "    </tr>\n",
       "    <tr>\n",
       "      <th>household</th>\n",
       "      <td>5452990.2</td>\n",
       "    </tr>\n",
       "    <tr>\n",
       "      <th>personal care</th>\n",
       "      <td>3578478.4</td>\n",
       "    </tr>\n",
       "    <tr>\n",
       "      <th>babies</th>\n",
       "      <td>3237074.3</td>\n",
       "    </tr>\n",
       "    <tr>\n",
       "      <th>international</th>\n",
       "      <td>2068413.4</td>\n",
       "    </tr>\n",
       "    <tr>\n",
       "      <th>alcohol</th>\n",
       "      <td>1251101.8</td>\n",
       "    </tr>\n",
       "    <tr>\n",
       "      <th>pets</th>\n",
       "      <td>770851.9</td>\n",
       "    </tr>\n",
       "    <tr>\n",
       "      <th>missing</th>\n",
       "      <td>598821.0</td>\n",
       "    </tr>\n",
       "    <tr>\n",
       "      <th>bulk</th>\n",
       "      <td>288624.0</td>\n",
       "    </tr>\n",
       "    <tr>\n",
       "      <th>other</th>\n",
       "      <td>253661.7</td>\n",
       "    </tr>\n",
       "  </tbody>\n",
       "</table>\n",
       "</div>"
      ],
      "text/plain": [
       "                      prices\n",
       "department                  \n",
       "dairy eggs       180644624.2\n",
       "produce           75656922.6\n",
       "beverages         20641141.2\n",
       "frozen            17287788.3\n",
       "pantry            15019386.3\n",
       "snacks            12344405.5\n",
       "meat seafood      11550802.4\n",
       "bakery             9207464.0\n",
       "deli               8176975.6\n",
       "canned goods       8052882.2\n",
       "dry goods pasta    6369832.8\n",
       "breakfast          5644292.9\n",
       "household          5452990.2\n",
       "personal care      3578478.4\n",
       "babies             3237074.3\n",
       "international      2068413.4\n",
       "alcohol            1251101.8\n",
       "pets                770851.9\n",
       "missing             598821.0\n",
       "bulk                288624.0\n",
       "other               253661.7"
      ]
     },
     "execution_count": 18,
     "metadata": {},
     "output_type": "execute_result"
    }
   ],
   "source": [
    "# checking which department has the most customer sales\n",
    "df[['prices','department']].groupby('department').agg('sum').sort_values(by='prices',ascending=False)"
   ]
  },
  {
   "cell_type": "markdown",
   "id": "0f3abd80",
   "metadata": {},
   "source": [
    "Customers spent the most money (180,644,624.2) on dairy and eggs and the spent the least (253,661.7) on miscellaneous goods described as 'other'."
   ]
  },
  {
   "cell_type": "markdown",
   "id": "68fa4c2e",
   "metadata": {},
   "source": [
    "## Depending grouping\n",
    "    No dependents = 0 dependents\n",
    "    Has dependent/s = >= 1 dependent/s"
   ]
  },
  {
   "cell_type": "code",
   "execution_count": 19,
   "id": "a082ab91",
   "metadata": {},
   "outputs": [],
   "source": [
    "# creating dependent_flag for customers\n",
    "df.loc[df['number_of_dependents']==0,'dependent_flag'] = 'Parent'\n",
    "df.loc[df['number_of_dependents']>0,'dependent_flag'] = 'Not Parent'"
   ]
  },
  {
   "cell_type": "code",
   "execution_count": 20,
   "id": "7c7dd73b",
   "metadata": {},
   "outputs": [
    {
     "data": {
      "text/plain": [
       "Not Parent    24305226\n",
       "Parent         8096749\n",
       "Name: dependent_flag, dtype: int64"
      ]
     },
     "execution_count": 20,
     "metadata": {},
     "output_type": "execute_result"
    }
   ],
   "source": [
    "# checking data\n",
    "df['dependent_flag'].value_counts()"
   ]
  },
  {
   "cell_type": "code",
   "execution_count": 21,
   "id": "17062271",
   "metadata": {},
   "outputs": [
    {
     "data": {
      "text/html": [
       "<div>\n",
       "<style scoped>\n",
       "    .dataframe tbody tr th:only-of-type {\n",
       "        vertical-align: middle;\n",
       "    }\n",
       "\n",
       "    .dataframe tbody tr th {\n",
       "        vertical-align: top;\n",
       "    }\n",
       "\n",
       "    .dataframe thead tr th {\n",
       "        text-align: left;\n",
       "    }\n",
       "\n",
       "    .dataframe thead tr:last-of-type th {\n",
       "        text-align: right;\n",
       "    }\n",
       "</style>\n",
       "<table border=\"1\" class=\"dataframe\">\n",
       "  <thead>\n",
       "    <tr>\n",
       "      <th></th>\n",
       "      <th colspan=\"3\" halign=\"left\">prices</th>\n",
       "    </tr>\n",
       "    <tr>\n",
       "      <th></th>\n",
       "      <th>mean</th>\n",
       "      <th>min</th>\n",
       "      <th>max</th>\n",
       "    </tr>\n",
       "    <tr>\n",
       "      <th>dependent_flag</th>\n",
       "      <th></th>\n",
       "      <th></th>\n",
       "      <th></th>\n",
       "    </tr>\n",
       "  </thead>\n",
       "  <tbody>\n",
       "    <tr>\n",
       "      <th>Not Parent</th>\n",
       "      <td>11.930997</td>\n",
       "      <td>1.0</td>\n",
       "      <td>99999.0</td>\n",
       "    </tr>\n",
       "    <tr>\n",
       "      <th>Parent</th>\n",
       "      <td>12.117328</td>\n",
       "      <td>1.0</td>\n",
       "      <td>99999.0</td>\n",
       "    </tr>\n",
       "  </tbody>\n",
       "</table>\n",
       "</div>"
      ],
      "text/plain": [
       "                   prices              \n",
       "                     mean  min      max\n",
       "dependent_flag                         \n",
       "Not Parent      11.930997  1.0  99999.0\n",
       "Parent          12.117328  1.0  99999.0"
      ]
     },
     "execution_count": 21,
     "metadata": {},
     "output_type": "execute_result"
    }
   ],
   "source": [
    "# aggregating dependent expenditure\n",
    "df.groupby('dependent_flag').agg({'prices':['mean','min','max']})"
   ]
  },
  {
   "cell_type": "markdown",
   "id": "0b987a1c",
   "metadata": {},
   "source": [
    "There is not much of a difference between the expenditure of customers with or without dependents. However, customers with no dependents spend slightly more on average."
   ]
  },
  {
   "cell_type": "markdown",
   "id": "130a4e13",
   "metadata": {},
   "source": [
    "## Hour grouping\n",
    "    Early morning: 12:00am - 05:59am \n",
    "    Morning: 06:00am - 11:59am\n",
    "    Afternoon: 12:00pm-04:59pm\n",
    "    Evening: 05:00pm - 08:59pm\n",
    "    Night: 9:00pm - 11:59pm"
   ]
  },
  {
   "cell_type": "code",
   "execution_count": 22,
   "id": "f0a2d5e6",
   "metadata": {},
   "outputs": [
    {
     "data": {
      "text/plain": [
       "(3212144, 37)"
      ]
     },
     "execution_count": 22,
     "metadata": {},
     "output_type": "execute_result"
    }
   ],
   "source": [
    "# creating dataframe listing orders without any duplicates\n",
    "df_ord = df.drop_duplicates(subset='order_id').copy()\n",
    "df_ord.shape"
   ]
  },
  {
   "cell_type": "code",
   "execution_count": 23,
   "id": "a237027c",
   "metadata": {},
   "outputs": [
    {
     "data": {
      "text/plain": [
       "Afternoon        1303937\n",
       "Morning          1066187\n",
       "Evening           614368\n",
       "Night             168428\n",
       "Early morning      37878\n",
       "Name: time_of_day, dtype: int64"
      ]
     },
     "execution_count": 23,
     "metadata": {},
     "output_type": "execute_result"
    }
   ],
   "source": [
    "# grouping order_hour_of_day into the hour groupings.\n",
    "df_ord.loc[(df_ord['order_hour_of_day']>0)&(df_ord['order_hour_of_day']<6),'time_of_day']='Early morning'\n",
    "df_ord.loc[(df_ord['order_hour_of_day']>=6)&(df_ord['order_hour_of_day']<12),'time_of_day']='Morning'\n",
    "df_ord.loc[(df_ord['order_hour_of_day']>=12)&(df_ord['order_hour_of_day']<17),'time_of_day']='Afternoon'\n",
    "df_ord.loc[(df_ord['order_hour_of_day']>=17)&(df_ord['order_hour_of_day']<21),'time_of_day']='Evening'\n",
    "df_ord.loc[(df_ord['order_hour_of_day']>=21)&(df_ord['order_hour_of_day']<24),'time_of_day']='Night'\n",
    "df_ord['time_of_day'].value_counts()"
   ]
  },
  {
   "cell_type": "code",
   "execution_count": 24,
   "id": "0cfc6f02",
   "metadata": {},
   "outputs": [
    {
     "data": {
      "text/plain": [
       "3212144"
      ]
     },
     "execution_count": 24,
     "metadata": {},
     "output_type": "execute_result"
    }
   ],
   "source": [
    "# checking values add up\n",
    "1303937+1066187+614368+168428+59224"
   ]
  },
  {
   "cell_type": "markdown",
   "id": "7346f58e",
   "metadata": {},
   "source": [
    "Most orders (1,303,937) take place during the afternoon between 12:00pm and 4:59pm. The least amount of orders (59,224) take place during the early morning."
   ]
  },
  {
   "cell_type": "markdown",
   "id": "d4929e40",
   "metadata": {},
   "source": [
    "## Additional visualizations & analysis"
   ]
  },
  {
   "cell_type": "code",
   "execution_count": 42,
   "id": "872562a1",
   "metadata": {},
   "outputs": [
    {
     "data": {
      "image/png": "[encoded data removed]",
      "text/plain": [
       "<Figure size 1008x864 with 1 Axes>"
      ]
     },
     "metadata": {
      "needs_background": "light"
     },
     "output_type": "display_data"
    }
   ],
   "source": [
    "# creating bar graph displaying time of day when most orders are placed.\n",
    "time_of_day_orders=df_ord['time_of_day'].value_counts().sort_values().plot.bar(figsize = [14,12])\n",
    "plt.title('Orders per Time of Day')\n",
    "plt.xlabel('Time of Day')\n",
    "plt.ylabel('Orders (in millions)')\n",
    "plt.show()"
   ]
  },
  {
   "cell_type": "markdown",
   "id": "b94be55c",
   "metadata": {},
   "source": [
    "The least amount of orders take place in the early morning, 12:00am to 5:59am, and in the night, 9:00pm to 11:59pm.\n",
    "The most amount of orders taking place during the morning and afternoon from 6:00am to 5:00pm"
   ]
  },
  {
   "cell_type": "code",
   "execution_count": 26,
   "id": "8a56e757",
   "metadata": {},
   "outputs": [
    {
     "data": {
      "image/png": "[encoded data removed]",
      "text/plain": [
       "<Figure size 720x576 with 1 Axes>"
      ]
     },
     "metadata": {
      "needs_background": "light"
     },
     "output_type": "display_data"
    }
   ],
   "source": [
    "# regional distribution of customers\n",
    "regional_bar=df['Region'].value_counts().plot.bar(figsize = [10,8])\n",
    "plt.title('Orders per Region')\n",
    "plt.xlabel('Region of US')\n",
    "plt.ylabel('Orders (in millions)')\n",
    "plt.show()"
   ]
  },
  {
   "cell_type": "markdown",
   "id": "d631623c",
   "metadata": {},
   "source": [
    "The most orders are from the Southern region of the U.S. and the least amount of orders comign from the Northeastern region of the U.S."
   ]
  },
  {
   "cell_type": "code",
   "execution_count": 27,
   "id": "0c558b9e",
   "metadata": {},
   "outputs": [],
   "source": [
    "# creating crosstab for region and income flag\n",
    "income_region=pd.crosstab(index=df['Region'],columns=df['income_flag'], normalize = \"index\")\n",
    "\n",
    "# creating crosstab labels\n",
    "income_region_labels=pd.crosstab(index=df['Region'],columns=df['income_flag'])"
   ]
  },
  {
   "cell_type": "code",
   "execution_count": 28,
   "id": "bd30c1c4",
   "metadata": {},
   "outputs": [
    {
     "data": {
      "text/html": [
       "<div>\n",
       "<style scoped>\n",
       "    .dataframe tbody tr th:only-of-type {\n",
       "        vertical-align: middle;\n",
       "    }\n",
       "\n",
       "    .dataframe tbody tr th {\n",
       "        vertical-align: top;\n",
       "    }\n",
       "\n",
       "    .dataframe thead th {\n",
       "        text-align: right;\n",
       "    }\n",
       "</style>\n",
       "<table border=\"1\" class=\"dataframe\">\n",
       "  <thead>\n",
       "    <tr style=\"text-align: right;\">\n",
       "      <th>income_flag</th>\n",
       "      <th>High Income</th>\n",
       "      <th>Low Income</th>\n",
       "      <th>Middle Income</th>\n",
       "    </tr>\n",
       "    <tr>\n",
       "      <th>Region</th>\n",
       "      <th></th>\n",
       "      <th></th>\n",
       "      <th></th>\n",
       "    </tr>\n",
       "  </thead>\n",
       "  <tbody>\n",
       "    <tr>\n",
       "      <th>Midwest</th>\n",
       "      <td>0.300031</td>\n",
       "      <td>0.110334</td>\n",
       "      <td>0.589635</td>\n",
       "    </tr>\n",
       "    <tr>\n",
       "      <th>Northeast</th>\n",
       "      <td>0.297402</td>\n",
       "      <td>0.109588</td>\n",
       "      <td>0.593011</td>\n",
       "    </tr>\n",
       "    <tr>\n",
       "      <th>South</th>\n",
       "      <td>0.292313</td>\n",
       "      <td>0.112971</td>\n",
       "      <td>0.594716</td>\n",
       "    </tr>\n",
       "    <tr>\n",
       "      <th>West</th>\n",
       "      <td>0.293677</td>\n",
       "      <td>0.109583</td>\n",
       "      <td>0.596740</td>\n",
       "    </tr>\n",
       "  </tbody>\n",
       "</table>\n",
       "</div>"
      ],
      "text/plain": [
       "income_flag  High Income  Low Income  Middle Income\n",
       "Region                                             \n",
       "Midwest         0.300031    0.110334       0.589635\n",
       "Northeast       0.297402    0.109588       0.593011\n",
       "South           0.292313    0.112971       0.594716\n",
       "West            0.293677    0.109583       0.596740"
      ]
     },
     "execution_count": 28,
     "metadata": {},
     "output_type": "execute_result"
    }
   ],
   "source": [
    "income_region.head()"
   ]
  },
  {
   "cell_type": "code",
   "execution_count": 29,
   "id": "6cc3692e",
   "metadata": {},
   "outputs": [
    {
     "data": {
      "image/png": "[encoded data removed]",
      "text/plain": [
       "<Figure size 864x720 with 1 Axes>"
      ]
     },
     "metadata": {
      "needs_background": "light"
     },
     "output_type": "display_data"
    }
   ],
   "source": [
    "# creating stacked bar chart for regional income distribution\n",
    "income_regional_dist=income_region.plot(kind='bar', \n",
    "                        stacked=True, \n",
    "                        color=['cyan','yellow','green'], \n",
    "                        figsize=(12,10))\n",
    "\n",
    "plt.legend(loc=\"upper center\", ncol=4)\n",
    "plt.title(\"Income Proportion per Region\")\n",
    "plt.ylabel(\"proportion\")\n",
    "plt.xlabel(\"region\")\n",
    "\n",
    "\n",
    "for n, y in enumerate([*income_region_labels.index.values]):\n",
    "    for (proportion, count, x_loc) in zip(income_region.loc[y],\n",
    "                                         income_region_labels.loc[y],\n",
    "                                          income_region.loc[y].cumsum()):\n",
    "                \n",
    "        plt.text(y=(x_loc - proportion) + (proportion / 2),\n",
    "                 x=n - 0.11,\n",
    "                 s=f'{count}\\n({np.round(proportion * 100, 1)}%)', \n",
    "                 color=\"black\",\n",
    "                 fontsize=12)\n",
    "\n",
    "plt.show()"
   ]
  },
  {
   "cell_type": "code",
   "execution_count": 30,
   "id": "c69ee670",
   "metadata": {},
   "outputs": [
    {
     "data": {
      "image/png": "[encoded data removed]",
      "text/plain": [
       "<Figure size 432x288 with 1 Axes>"
      ]
     },
     "metadata": {
      "needs_background": "light"
     },
     "output_type": "display_data"
    }
   ],
   "source": [
    "# creating bar chart for orders made by each age group\n",
    "age_bar=df['age_range'].value_counts().plot.bar(color='purple')\n",
    "plt.title('Orders per Age Group')\n",
    "plt.xlabel('Age group')\n",
    "plt.ylabel('Orders (in 10,000,000)')\n",
    "plt.show()"
   ]
  },
  {
   "cell_type": "markdown",
   "id": "9a6bcf05",
   "metadata": {},
   "source": [
    "    Age range 1: 18 <= Young Adult < 35\n",
    "    Age range 2: 35 <= Adult < 60\n",
    "    Age range 3: 60 <= Senior\n",
    "\n",
    "Most customers are in the 'adult' range between 35 and 59 years old. The least amount of customers are in the 'young adult' range between the ages 18 and 35."
   ]
  },
  {
   "cell_type": "code",
   "execution_count": 31,
   "id": "7542a93b",
   "metadata": {},
   "outputs": [
    {
     "data": {
      "image/png": "[encoded data removed]",
      "text/plain": [
       "<Figure size 1008x864 with 1 Axes>"
      ]
     },
     "metadata": {
      "needs_background": "light"
     },
     "output_type": "display_data"
    }
   ],
   "source": [
    "# creating bar chart for orders made by each income group\n",
    "income_bar = df['income_flag'].value_counts().sort_values().plot.barh(figsize = [14,12])\n",
    "plt.title('Orders per Income Group')\n",
    "plt.xlabel('Orders (in 10,000,000)')\n",
    "plt.ylabel('Income Group')\n",
    "plt.show()"
   ]
  },
  {
   "cell_type": "markdown",
   "id": "4c1b10e2",
   "metadata": {},
   "source": [
    "    Less than 50,000 = Low Income\n",
    "    Between 50,000 & 120,000 = Middle Income\n",
    "    Above 120,000 = High Income\n",
    "    \n",
    "Most customers fall within the middle income bracket, with the least amount of customers falling in the low income bracket."
   ]
  },
  {
   "cell_type": "code",
   "execution_count": 32,
   "id": "fc6e8ff1",
   "metadata": {},
   "outputs": [
    {
     "data": {
      "image/png": "[encoded data removed]",
      "text/plain": [
       "<Figure size 864x720 with 1 Axes>"
      ]
     },
     "metadata": {
      "needs_background": "light"
     },
     "output_type": "display_data"
    }
   ],
   "source": [
    "# creating stacked bar chart for loyalty customers using spending flag\n",
    "loyalty_spending_bar=df.groupby('loyalty_flag')['spending_flag'].value_counts().unstack().plot.barh(stacked=True,\n",
    "                                                                                        ylabel='counts',fontsize=7.5,figsize = [12,10])\n",
    "plt.title('Orders per Loyalty and Spending')\n",
    "plt.xlabel('Orders (in 10,000,000)')\n",
    "plt.ylabel('Loyalty Groups')\n",
    "plt.show()"
   ]
  },
  {
   "cell_type": "code",
   "execution_count": 33,
   "id": "5ec4ed9d",
   "metadata": {
    "scrolled": true
   },
   "outputs": [
    {
     "data": {
      "image/png": "[encoded data removed]",
      "text/plain": [
       "<Figure size 720x864 with 1 Axes>"
      ]
     },
     "metadata": {
      "needs_background": "light"
     },
     "output_type": "display_data"
    }
   ],
   "source": [
    "# creating stacked bar chart for regions using spending flag\n",
    "regional_spending_bar=df.groupby('Region')['spending_flag'].value_counts().unstack().plot.barh(stacked=True,\n",
    "                                                                                        ylabel='counts',figsize = [10,12])\n",
    "plt.title('Orders per Region and Spending')\n",
    "plt.xlabel('Orders (in 10,000,000)')\n",
    "plt.ylabel('Region of US')\n",
    "plt.show()"
   ]
  },
  {
   "cell_type": "code",
   "execution_count": 34,
   "id": "4d3d6b1a",
   "metadata": {},
   "outputs": [
    {
     "data": {
      "image/png": "[encoded data removed]",
      "text/plain": [
       "<Figure size 864x720 with 1 Axes>"
      ]
     },
     "metadata": {
      "needs_background": "light"
     },
     "output_type": "display_data"
    }
   ],
   "source": [
    "loyalty_frequency=df.groupby('loyalty_flag')['frequency_flag'].value_counts().unstack().plot.barh(stacked=True,\n",
    "                                                                                        ylabel='counts',fontsize=7.5,figsize = [12,10])\n",
    "plt.title('Orders per Loyalty and Frequency')\n",
    "plt.xlabel('Orders (in 10,000,000)')\n",
    "plt.ylabel('Loyalty Group')\n",
    "plt.show()"
   ]
  },
  {
   "cell_type": "code",
   "execution_count": 35,
   "id": "05c1c2bf",
   "metadata": {},
   "outputs": [
    {
     "data": {
      "text/plain": [
       "High spender    32371455\n",
       "Low spender        30520\n",
       "Name: spending_flag, dtype: int64"
      ]
     },
     "execution_count": 35,
     "metadata": {},
     "output_type": "execute_result"
    }
   ],
   "source": [
    "df['spending_flag'].value_counts()"
   ]
  },
  {
   "cell_type": "code",
   "execution_count": 36,
   "id": "53338a2e",
   "metadata": {},
   "outputs": [
    {
     "data": {
      "text/plain": [
       "['order_id',\n",
       " 'user_id',\n",
       " 'order_number',\n",
       " 'orders_day_of_week',\n",
       " 'order_hour_of_day',\n",
       " 'days_since_last_order',\n",
       " 'new_customer',\n",
       " 'product_id',\n",
       " 'add_to_cart_order',\n",
       " 'reordered',\n",
       " 'product_name',\n",
       " 'department_id',\n",
       " 'prices',\n",
       " 'price_range_loc',\n",
       " 'busiest_day',\n",
       " 'busiest_days',\n",
       " 'busiest_period_of_day',\n",
       " 'max_order',\n",
       " 'loyalty_flag',\n",
       " 'mean_prices',\n",
       " 'spending_flag',\n",
       " 'median_days_since_previous_order',\n",
       " 'frequency_flag',\n",
       " 'gender',\n",
       " 'state',\n",
       " 'age',\n",
       " 'date_joined',\n",
       " 'number_of_dependents',\n",
       " 'marital_status',\n",
       " 'income',\n",
       " 'Region',\n",
       " 'total_orders',\n",
       " 'activity_flag',\n",
       " 'age_range',\n",
       " 'income_flag',\n",
       " 'department',\n",
       " 'dependent_flag']"
      ]
     },
     "execution_count": 36,
     "metadata": {},
     "output_type": "execute_result"
    }
   ],
   "source": [
    "list(df)"
   ]
  },
  {
   "cell_type": "code",
   "execution_count": 37,
   "id": "d5706f6d",
   "metadata": {},
   "outputs": [],
   "source": [
    "#"
   ]
  },
  {
   "cell_type": "code",
   "execution_count": 38,
   "id": "ad1c7f65",
   "metadata": {},
   "outputs": [
    {
     "data": {
      "image/png": "[encoded data removed]",
      "text/plain": [
       "<Figure size 432x288 with 1 Axes>"
      ]
     },
     "metadata": {
      "needs_background": "light"
     },
     "output_type": "display_data"
    }
   ],
   "source": [
    "# creating a stacked bar chart for age groups and income\n",
    "age_income_bar=df.groupby('age_range')['income_flag'].value_counts().unstack().plot.barh(stacked=True,\n",
    "                                                                                        ylabel='counts',color=['cyan','yellow','green'])\n",
    "plt.title('Orders per Age and Income Groups')\n",
    "plt.xlabel('Orders (in 10,000,000)')\n",
    "plt.ylabel('Age Group')\n",
    "plt.show()"
   ]
  },
  {
   "cell_type": "markdown",
   "id": "ca7648c6",
   "metadata": {},
   "source": [
    "    Age range 1: 18 <= Young Adult < 35\n",
    "    Age range 2: 35 <= Adult < 60\n",
    "    Age range 3: 60 <= Senior\n",
    "\n",
    "Most young adults and adults fall under the middle income bracket. Seniors seem to have an equal proportion of high income and middle income brackets. In both adults and seniors, low income is the smallest bracket.\n"
   ]
  },
  {
   "cell_type": "markdown",
   "id": "d67fc0a0",
   "metadata": {},
   "source": [
    "As age increases so does the income status as shown by the increasing proportion of high income customers in each age range. "
   ]
  },
  {
   "cell_type": "code",
   "execution_count": 39,
   "id": "dc394052",
   "metadata": {},
   "outputs": [
    {
     "data": {
      "image/png": "[encoded data removed]",
      "text/plain": [
       "<Figure size 1008x864 with 1 Axes>"
      ]
     },
     "metadata": {
      "needs_background": "light"
     },
     "output_type": "display_data"
    }
   ],
   "source": [
    "# creating bar chart for orders made by each familial status\n",
    "martial_bar=df['marital_status'].value_counts().sort_values().plot.barh(color='green', figsize = [14,12])\n",
    "plt.title('Orders per Maritial Status')\n",
    "plt.xlabel('Orders (in 10,000,000)')\n",
    "plt.ylabel('Maritial Status')\n",
    "plt.show()"
   ]
  },
  {
   "cell_type": "markdown",
   "id": "a9b16ec8",
   "metadata": {},
   "source": [
    "Most orders are made by customers who are married with the least orders made by customers who live with their parents and siblings."
   ]
  },
  {
   "cell_type": "code",
   "execution_count": 40,
   "id": "dd2608fa",
   "metadata": {},
   "outputs": [
    {
     "data": {
      "image/png": "[encoded data removed]",
      "text/plain": [
       "<Figure size 1008x864 with 1 Axes>"
      ]
     },
     "metadata": {
      "needs_background": "light"
     },
     "output_type": "display_data"
    }
   ],
   "source": [
    "# creating bar chart for the orders made by customers with/without dependents\n",
    "dependent_bar=df['dependent_flag'].value_counts().sort_values().plot.bar(figsize = [14,12])\n",
    "plt.title('Orders per Dependents')\n",
    "plt.xlabel('Dependent Groups')\n",
    "plt.ylabel('Orders (in 10,000,000)')\n",
    "plt.show()"
   ]
  },
  {
   "cell_type": "markdown",
   "id": "ade31b11",
   "metadata": {},
   "source": [
    "Most orders are made by customers with dependents. The results make sense considering that most orders are made by married customers."
   ]
  },
  {
   "cell_type": "code",
   "execution_count": 68,
   "id": "59b84266",
   "metadata": {
    "scrolled": false
   },
   "outputs": [
    {
     "data": {
      "image/png": "[encoded data removed]",
      "text/plain": [
       "<Figure size 720x720 with 1 Axes>"
      ]
     },
     "metadata": {
      "needs_background": "light"
     },
     "output_type": "display_data"
    }
   ],
   "source": [
    "# bar chart showing orders made by each department\n",
    "department_bar=df.department.value_counts().sort_values().plot(kind = 'barh', figsize = [10,10])\n",
    "plt.title('Orders Per Departments')\n",
    "plt.xlabel('Orders (in millions)')\n",
    "plt.ylabel('Departments')\n",
    "plt.show()"
   ]
  },
  {
   "cell_type": "markdown",
   "id": "6eaceec9",
   "metadata": {},
   "source": [
    "The 'produce' department has the most total orders whereas the 'bulk' has the least total orders."
   ]
  },
  {
   "cell_type": "code",
   "execution_count": 45,
   "id": "ac09a828",
   "metadata": {
    "scrolled": false
   },
   "outputs": [
    {
     "data": {
      "image/png": "[encoded data removed]",
      "text/plain": [
       "<Figure size 1008x864 with 1 Axes>"
      ]
     },
     "metadata": {
      "needs_background": "light"
     },
     "output_type": "display_data"
    }
   ],
   "source": [
    "# creating new table just consisting of departments and prices\n",
    "department_prices_sum=df[['department','prices']]\n",
    "\n",
    "# creating bar graph from aggregating department prices to show department sales\n",
    "department_sales = department_prices_sum.groupby('department').sum('prices').sort_values(['prices'],ascending=True).plot(kind = 'barh', figsize = [14,12])\n",
    "plt.title(\"Sales Per Department\")\n",
    "plt.xlabel('Sales (in $100,000,000)')\n",
    "plt.ylabel(\"Department\")\n",
    "plt.legend('',frameon=False)\n",
    "plt.show()"
   ]
  },
  {
   "cell_type": "code",
   "execution_count": 46,
   "id": "03efaff2",
   "metadata": {},
   "outputs": [],
   "source": [
    "# creating subset with userid and loyalty columns\n",
    "cust_loyalty=df[['user_id','loyalty_flag']]\n",
    "# removing duplicate values\n",
    "cust_loyalty_unique=cust_loyalty.drop_duplicates()"
   ]
  },
  {
   "cell_type": "code",
   "execution_count": 47,
   "id": "9061ac12",
   "metadata": {},
   "outputs": [
    {
     "data": {
      "text/plain": [
       "New customer        111529\n",
       "Regular customer     76864\n",
       "Loyal customer       17017\n",
       "Name: loyalty_flag, dtype: int64"
      ]
     },
     "execution_count": 47,
     "metadata": {},
     "output_type": "execute_result"
    }
   ],
   "source": [
    "cust_loyalty_unique['loyalty_flag'].value_counts()"
   ]
  },
  {
   "cell_type": "code",
   "execution_count": 48,
   "id": "7a647e8a",
   "metadata": {},
   "outputs": [
    {
     "data": {
      "image/png": "[encoded data removed]",
      "text/plain": [
       "<Figure size 432x288 with 1 Axes>"
      ]
     },
     "metadata": {},
     "output_type": "display_data"
    }
   ],
   "source": [
    "# creating pie chart for loyalty flag\n",
    "labels = 'New customer', 'Regular customer', 'Loyal customer'\n",
    "sizes = cust_loyalty_unique['loyalty_flag'].value_counts()\n",
    "colors = ['yellow','cyan','green']\n",
    "textprops = {\"fontsize\":10}\n",
    "\n",
    "loyal, ax = plt.subplots()\n",
    "ax.pie(sizes,labels=labels,colors=colors,autopct='%1.1f%%',\n",
    "        shadow=True, startangle=90,textprops=textprops)\n",
    "ax.axis('equal')  \n",
    "\n",
    "plt.title(\"Customer Loyalty Proportion\")\n",
    "plt.legend('',frameon=False)\n",
    "plt.show()"
   ]
  },
  {
   "cell_type": "markdown",
   "id": "bbdb9d40",
   "metadata": {},
   "source": [
    "## Exporting final dataset & visualizations"
   ]
  },
  {
   "cell_type": "code",
   "execution_count": 49,
   "id": "e83ebd5c",
   "metadata": {},
   "outputs": [],
   "source": [
    "# exporting final dataset\n",
    "df.to_pickle(os.path.join(path, '02 Data','Prepared Data', 'final_dataset.pkl'))"
   ]
  },
  {
   "cell_type": "code",
   "execution_count": 50,
   "id": "05280e3a",
   "metadata": {},
   "outputs": [],
   "source": [
    "# exporting bar graph displaying orders during time of day \n",
    "time_of_day_orders.figure.savefig(os.path.join(path, '04 Analysis','Visualizations', 'time_of_day_orders.png'))"
   ]
  },
  {
   "cell_type": "code",
   "execution_count": 51,
   "id": "130ce57b",
   "metadata": {},
   "outputs": [],
   "source": [
    "# exporting regional distribution of customers\n",
    "regional_bar.figure.savefig(os.path.join(path, '04 Analysis','Visualizations', 'regional_bar.png'))"
   ]
  },
  {
   "cell_type": "code",
   "execution_count": 52,
   "id": "91745eb5",
   "metadata": {},
   "outputs": [],
   "source": [
    "# exporting stacked bar chart showing income and region \n",
    "income_regional_dist.figure.savefig(os.path.join(path, '04 Analysis','Visualizations', 'income_regional_dist.png'))"
   ]
  },
  {
   "cell_type": "code",
   "execution_count": 53,
   "id": "5101748f",
   "metadata": {},
   "outputs": [],
   "source": [
    "# exporting bar chart for orders made by each age group\n",
    "age_bar.figure.savefig(os.path.join(path, '04 Analysis','Visualizations', 'age_bar.png'))"
   ]
  },
  {
   "cell_type": "code",
   "execution_count": 54,
   "id": "64c9b1de",
   "metadata": {},
   "outputs": [],
   "source": [
    "# exporting bar chart for orders made by each income group\n",
    "income_bar.figure.savefig(os.path.join(path, '04 Analysis','Visualizations', 'income_bar.png'))"
   ]
  },
  {
   "cell_type": "code",
   "execution_count": 55,
   "id": "b7ff39cd",
   "metadata": {},
   "outputs": [],
   "source": [
    "# exporting stacked bar showing age groups and income groups\n",
    "age_income_bar.figure.savefig(os.path.join(path, '04 Analysis','Visualizations', 'age_income_stacked.png'))"
   ]
  },
  {
   "cell_type": "code",
   "execution_count": 56,
   "id": "2015a4c2",
   "metadata": {},
   "outputs": [],
   "source": [
    "# exporting bar chart showing the orders made by customers of each family status\n",
    "martial_bar.figure.savefig(os.path.join(path, '04 Analysis','Visualizations', 'marital_bar.png'))"
   ]
  },
  {
   "cell_type": "code",
   "execution_count": 69,
   "id": "d329436c",
   "metadata": {},
   "outputs": [],
   "source": [
    "# exporting bar chart showing the amount of orders made by customers in each dependent flag\n",
    "dependent_bar.figure.savefig(os.path.join(path, '04 Analysis','Visualizations', 'dependent_bar.png'))"
   ]
  },
  {
   "cell_type": "code",
   "execution_count": 70,
   "id": "2000f6aa",
   "metadata": {},
   "outputs": [],
   "source": [
    "# exporting department bar chart\n",
    "department_bar.figure.savefig(os.path.join(path, '04 Analysis','Visualizations', 'department_bar.png'))"
   ]
  },
  {
   "cell_type": "code",
   "execution_count": 59,
   "id": "44377489",
   "metadata": {},
   "outputs": [],
   "source": [
    "# export department bar chart\n",
    "department_sales.figure.savefig(os.path.join(path, '04 Analysis','Visualizations', 'department_sales.png'))"
   ]
  },
  {
   "cell_type": "code",
   "execution_count": 60,
   "id": "da845a34",
   "metadata": {},
   "outputs": [],
   "source": [
    "# exporting loyalty Pie Chart \n",
    "loyal.figure.savefig(os.path.join(path, '04 Analysis','Visualizations', 'loyal_dist_pie.png'))"
   ]
  },
  {
   "cell_type": "code",
   "execution_count": 61,
   "id": "5284e532",
   "metadata": {},
   "outputs": [],
   "source": [
    "# exporting loyalty spending stacked bar chart\n",
    "loyalty_spending_bar.figure.savefig(os.path.join(path, '04 Analysis','Visualizations', 'loyalty_spending.png'))"
   ]
  },
  {
   "cell_type": "code",
   "execution_count": 62,
   "id": "574cab27",
   "metadata": {},
   "outputs": [],
   "source": [
    "# exporting regional spending stacked bar chart\n",
    "regional_spending_bar.figure.savefig(os.path.join(path, '04 Analysis','Visualizations', 'regional_spending.png'))"
   ]
  },
  {
   "cell_type": "code",
   "execution_count": 63,
   "id": "dba513ae",
   "metadata": {},
   "outputs": [],
   "source": [
    "loyalty_frequency.figure.savefig(os.path.join(path, '04 Analysis','Visualizations', 'loyalty_frequency.png'))"
   ]
  },
  {
   "cell_type": "code",
   "execution_count": null,
   "id": "abeab01e",
   "metadata": {},
   "outputs": [],
   "source": []
  }
 ],
 "metadata": {
  "kernelspec": {
   "display_name": "Python 3 (ipykernel)",
   "language": "python",
   "name": "python3"
  },
  "language_info": {
   "codemirror_mode": {
    "name": "ipython",
    "version": 3
   },
   "file_extension": ".py",
   "mimetype": "text/x-python",
   "name": "python",
   "nbconvert_exporter": "python",
   "pygments_lexer": "ipython3",
   "version": "3.9.12"
  }
 },
 "nbformat": 4,
 "nbformat_minor": 5
}
