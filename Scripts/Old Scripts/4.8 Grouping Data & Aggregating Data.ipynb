{
 "cells": [
  {
   "cell_type": "code",
   "execution_count": 1,
   "id": "d037b579",
   "metadata": {},
   "outputs": [],
   "source": [
    "import pandas as pd\n",
    "import numpy as np\n",
    "import os"
   ]
  },
  {
   "cell_type": "code",
   "execution_count": 2,
   "id": "77063594",
   "metadata": {},
   "outputs": [],
   "source": [
    "path = r'C:\\Users\\alber\\Instacart Basket Analysis'"
   ]
  },
  {
   "cell_type": "code",
   "execution_count": 6,
   "id": "1603814f",
   "metadata": {},
   "outputs": [],
   "source": [
    "ords_prods_merge = pd.read_pickle(os.path.join(path, '02 Data', 'Prepared Data', 'orders_products_merged_variables.pkl'))"
   ]
  },
  {
   "cell_type": "code",
   "execution_count": 7,
   "id": "8eecf5b6",
   "metadata": {},
   "outputs": [],
   "source": [
    "# Create a subset\n",
    "df = ords_prods_merge[:1000000]"
   ]
  },
  {
   "cell_type": "code",
   "execution_count": 8,
   "id": "2330040a",
   "metadata": {},
   "outputs": [
    {
     "data": {
      "text/plain": [
       "(1000000, 21)"
      ]
     },
     "execution_count": 8,
     "metadata": {},
     "output_type": "execute_result"
    }
   ],
   "source": [
    "df.shape"
   ]
  },
  {
   "cell_type": "code",
   "execution_count": 9,
   "id": "afc53da2",
   "metadata": {},
   "outputs": [
    {
     "data": {
      "text/plain": [
       "<bound method NDFrame.head of         order_id  user_id  order_number  order_days_of_week  \\\n",
       "0        2539329        1             1                   2   \n",
       "1        2398795        1             2                   3   \n",
       "2         473747        1             3                   3   \n",
       "3        2254736        1             4                   4   \n",
       "4         431534        1             5                   4   \n",
       "...          ...      ...           ...                 ...   \n",
       "999995   2836489   164627            14                   0   \n",
       "999996   1843600   164632             5                   1   \n",
       "999997    733106   164632             9                   2   \n",
       "999998   1650124   164632            17                   6   \n",
       "999999   3378258   164632            22                   6   \n",
       "\n",
       "        order_hour_of_day  days_from_previous_order  orer_hour_of_day  \\\n",
       "0                       8                       NaN                 8   \n",
       "1                       7                      15.0                 7   \n",
       "2                      12                      21.0                12   \n",
       "3                       7                      29.0                 7   \n",
       "4                      15                      28.0                15   \n",
       "...                   ...                       ...               ...   \n",
       "999995                 15                       6.0                15   \n",
       "999996                 19                       9.0                19   \n",
       "999997                 22                      10.0                22   \n",
       "999998                 17                      13.0                17   \n",
       "999999                 10                      15.0                10   \n",
       "\n",
       "        product_id  add_to_cart_order  reordered  ...     product_name  \\\n",
       "0              196                  1          0  ...             Soda   \n",
       "1              196                  1          1  ...             Soda   \n",
       "2              196                  1          1  ...             Soda   \n",
       "3              196                  1          1  ...             Soda   \n",
       "4              196                  1          1  ...             Soda   \n",
       "...            ...                ...        ...  ...              ...   \n",
       "999995       30489                  2          0  ...  Original Hummus   \n",
       "999996       30489                  2          0  ...  Original Hummus   \n",
       "999997       30489                  3          1  ...  Original Hummus   \n",
       "999998       30489                  1          1  ...  Original Hummus   \n",
       "999999       30489                  3          1  ...  Original Hummus   \n",
       "\n",
       "       aisle_id  department_id  prices  _merge    price_range_loc  \\\n",
       "0            77              7     9.0    both  Mid-range product   \n",
       "1            77              7     9.0    both  Mid-range product   \n",
       "2            77              7     9.0    both  Mid-range product   \n",
       "3            77              7     9.0    both  Mid-range product   \n",
       "4            77              7     9.0    both  Mid-range product   \n",
       "...         ...            ...     ...     ...                ...   \n",
       "999995       67             20     7.5    both  Mid-range product   \n",
       "999996       67             20     7.5    both  Mid-range product   \n",
       "999997       67             20     7.5    both  Mid-range product   \n",
       "999998       67             20     7.5    both  Mid-range product   \n",
       "999999       67             20     7.5    both  Mid-range product   \n",
       "\n",
       "         price_ranged_loc     busiest_day    busiest_days  \\\n",
       "0       Mid-range product  Regularly busy  Regularly busy   \n",
       "1       Mid-range product  Regularly busy    Slowest days   \n",
       "2       Mid-range product  Regularly busy    Slowest days   \n",
       "3       Mid-range product      Least busy    Slowest days   \n",
       "4       Mid-range product      Least busy    Slowest days   \n",
       "...                   ...             ...             ...   \n",
       "999995  Mid-range product     Busiest day    Busiest days   \n",
       "999996  Mid-range product  Regularly busy    Busiest days   \n",
       "999997  Mid-range product  Regularly busy  Regularly busy   \n",
       "999998  Mid-range product  Regularly busy  Regularly busy   \n",
       "999999  Mid-range product  Regularly busy  Regularly busy   \n",
       "\n",
       "       busiest_period_of_day  \n",
       "0             Average orders  \n",
       "1             Average orders  \n",
       "2                Most orders  \n",
       "3             Average orders  \n",
       "4                Most orders  \n",
       "...                      ...  \n",
       "999995           Most orders  \n",
       "999996        Average orders  \n",
       "999997        Average orders  \n",
       "999998        Average orders  \n",
       "999999           Most orders  \n",
       "\n",
       "[1000000 rows x 21 columns]>"
      ]
     },
     "execution_count": 9,
     "metadata": {},
     "output_type": "execute_result"
    }
   ],
   "source": [
    "df.head"
   ]
  },
  {
   "cell_type": "code",
   "execution_count": null,
   "id": "e5bf486f",
   "metadata": {},
   "outputs": [],
   "source": []
  }
 ],
 "metadata": {
  "kernelspec": {
   "display_name": "Python 3 (ipykernel)",
   "language": "python",
   "name": "python3"
  },
  "language_info": {
   "codemirror_mode": {
    "name": "ipython",
    "version": 3
   },
   "file_extension": ".py",
   "mimetype": "text/x-python",
   "name": "python",
   "nbconvert_exporter": "python",
   "pygments_lexer": "ipython3",
   "version": "3.9.12"
  }
 },
 "nbformat": 4,
 "nbformat_minor": 5
}
